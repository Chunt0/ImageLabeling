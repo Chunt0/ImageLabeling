{
 "cells": [
  {
   "cell_type": "markdown",
   "metadata": {},
   "source": [
    "# Dataset Building Workflow\n",
    "\n",
    "## Data Collection \n",
    "1. Identify the goal for the trianing run.\n",
    "    - style, object, character, concept ...?\n",
    "    - what sort of final product are we looking for? Straight to print vs. reference images vs. idea playground\n",
    "    - will we be trying to do something multimodal? img2vid/txt2vid/etc.\n",
    "\n",
    "2. Collect the Data\n",
    "    - currently we are building SDXL models. The resolution is 1024x1024 pixels -> this is the ideal range, be aware that blurry or pixelated images with transfer a \"blurry\" and \"pixelated\" output\n",
    "    - best practice is to get the highest resolution you can\n",
    "    - follow the guidelines for the process you are colelcting data for\n",
    "\n",
    "3. \n"
   ]
  },
  {
   "cell_type": "code",
   "execution_count": null,
   "metadata": {},
   "outputs": [],
   "source": []
  }
 ],
 "metadata": {
  "language_info": {
   "name": "python"
  }
 },
 "nbformat": 4,
 "nbformat_minor": 2
}
