{
 "cells": [
  {
   "cell_type": "code",
   "execution_count": 7,
   "metadata": {},
   "outputs": [],
   "source": [
    "from PIL import Image\n",
    "import os\n",
    "\n",
    "folder_path = './old/'  # Replace with your folder path\n",
    "new_path = './new/'\n",
    "\n",
    "blip_caption = False # Keep this false unless you plan to do BLIP captioning on dataset\n",
    "count = 0\n",
    "for filename in os.listdir(folder_path):\n",
    "    if filename.lower().endswith(('.jpg', '.jpeg', '.webp', '.png')):\n",
    "        count += 1\n",
    "        img_path = os.path.join(folder_path, filename)\n",
    "        img = Image.open(img_path)\n",
    "        new_filename = f'{count}.png'\n",
    "        img.save(os.path.join(new_path, new_filename))\n",
    "        \n",
    "        if not blip_caption:\n",
    "            with open(f\"{new_path}{count}.txt\", \"w\") as f:\n",
    "                f.write(\"\")\n",
    "        \n"
   ]
  }
 ],
 "metadata": {
  "kernelspec": {
   "display_name": "ml",
   "language": "python",
   "name": "python3"
  },
  "language_info": {
   "codemirror_mode": {
    "name": "ipython",
    "version": 3
   },
   "file_extension": ".py",
   "mimetype": "text/x-python",
   "name": "python",
   "nbconvert_exporter": "python",
   "pygments_lexer": "ipython3",
   "version": "3.10.13"
  }
 },
 "nbformat": 4,
 "nbformat_minor": 2
}
